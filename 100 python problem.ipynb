{
 "cells": [
  {
   "cell_type": "markdown",
   "metadata": {},
   "source": [
    "All the problems can be found in this link : https://github.com/zhiwehu/Python-programming-exercises/blob/master/100%2B%20Python%20challenging%20programming%20exercises.txt?fbclid=IwAR2XKByzol8mRQnV30gOyEjBsIdnG7-JrHyuwZcGNvFwn6ZuUljXNuiaAZo\n",
    "\n",
    "All solves are done in Python 3.10."
   ]
  },
  {
   "cell_type": "code",
   "execution_count": null,
   "metadata": {},
   "outputs": [],
   "source": [
    "#Problem 1\n",
    "\n",
    "l=[]\n",
    "for i in range(2000, 3201):\n",
    "    if (i%7==0) and (i%5!=0):\n",
    "        l.append(str(i))\n",
    "\n",
    "print (','.join(l))"
   ]
  },
  {
   "cell_type": "code",
   "execution_count": null,
   "metadata": {},
   "outputs": [],
   "source": [
    "#Problem 2\n",
    "\n",
    "def fact(x):\n",
    "    if x == 0:\n",
    "        return 1\n",
    "    return x * fact(x - 1)\n",
    "\n",
    "x = int(input(\"Enter Number: \"))\n",
    "print (fact(x))\n",
    "\n"
   ]
  },
  {
   "cell_type": "code",
   "execution_count": null,
   "metadata": {},
   "outputs": [],
   "source": [
    "# Problem 3\n",
    "n=int(input(\"Enter number: \"))\n",
    "d=dict()\n",
    "for i in range(1,n+1):\n",
    "    d[i]=i*i\n",
    "\n",
    "print (d)\n"
   ]
  },
  {
   "cell_type": "code",
   "execution_count": null,
   "metadata": {},
   "outputs": [],
   "source": [
    "# Problem 4\n",
    "\n",
    "values=input(\"Enter numbers: \")\n",
    "l = values.split(\",\")\n",
    "t = tuple(l)\n",
    "print (l)\n",
    "print (t)"
   ]
  },
  {
   "cell_type": "code",
   "execution_count": null,
   "metadata": {},
   "outputs": [],
   "source": [
    "# Problem 5\n",
    "\n",
    "class InputOutString():\n",
    "    def __init__(self):\n",
    "        self.s = \"\"\n",
    "\n",
    "    def getString(self):\n",
    "        self.s = input()\n",
    "\n",
    "    def printString(self):\n",
    "        print (self.s.upper())\n",
    "\n",
    "Object = InputOutString()\n",
    "Object.getString()\n",
    "Object.printString()"
   ]
  },
  {
   "cell_type": "code",
   "execution_count": null,
   "metadata": {},
   "outputs": [],
   "source": [
    "# Problem 6\n",
    "\n",
    "import math\n",
    "\n",
    "c = 50\n",
    "h = 30\n",
    "result = []\n",
    "\n",
    "n = input(\"Enter values of d: \")\n",
    "values = n.split(\",\")\n",
    "\n",
    "for d in values:\n",
    "    result.append(str(int(round(math.sqrt(2*c*float(d)/h)))))\n",
    "\n",
    "print(\",\".join(result))\n"
   ]
  },
  {
   "cell_type": "code",
   "execution_count": null,
   "metadata": {},
   "outputs": [],
   "source": [
    "# Problem 7\n",
    "\n",
    "input_str = input()\n",
    "dimensions=[int(x) for x in input_str.split(',')]\n",
    "rowNum=dimensions[0]\n",
    "colNum=dimensions[1]\n",
    "multilist = [[0 for col in range(colNum)] for row in range(rowNum)]\n",
    "\n",
    "for row in range(rowNum):\n",
    "    for col in range(colNum):\n",
    "        multilist[row][col]= row*col\n",
    "\n",
    "print (multilist)"
   ]
  },
  {
   "cell_type": "code",
   "execution_count": null,
   "metadata": {},
   "outputs": [],
   "source": [
    "# Problem 8\n",
    "\n",
    "items=[x for x in input().split(',')]\n",
    "items.sort()\n",
    "print (','.join(items))\n"
   ]
  },
  {
   "cell_type": "code",
   "execution_count": null,
   "metadata": {},
   "outputs": [],
   "source": [
    "# Prbolem 9\n",
    "\n",
    "lines = []\n",
    "while True:\n",
    "    s = input()\n",
    "    if s:\n",
    "        lines.append(s.upper())\n",
    "    else:\n",
    "        break;\n",
    "\n",
    "for i in lines:\n",
    "    print (i)"
   ]
  },
  {
   "cell_type": "code",
   "execution_count": null,
   "metadata": {},
   "outputs": [],
   "source": [
    "# Problem 10 \n",
    "\n",
    "s = input()\n",
    "words = [word for word in s.split(\" \")]\n",
    "print (\" \".join(sorted(list(set(words)))))"
   ]
  },
  {
   "cell_type": "code",
   "execution_count": null,
   "metadata": {},
   "outputs": [],
   "source": [
    "# Problem 11\n",
    "\n",
    "value = []\n",
    "items=[x for x in input().split(',')]\n",
    "for p in items:\n",
    "    intp = int(p, 2)\n",
    "    if not intp%5:\n",
    "        value.append(p)\n",
    "\n",
    "print (','.join(value))"
   ]
  },
  {
   "cell_type": "code",
   "execution_count": null,
   "metadata": {},
   "outputs": [],
   "source": [
    "# Problem 12\n",
    "\n",
    "values = []\n",
    "\n",
    "for i in range(1000, 3001):\n",
    "    \n",
    "    s = str(i)\n",
    "    if (int(s[0])%2==0) and (int(s[1])%2==0) and (int(s[2])%2==0) and (int(s[3])%2==0):\n",
    "        values.append(s)\n",
    "\n",
    "print (\",\".join(values))"
   ]
  },
  {
   "cell_type": "code",
   "execution_count": null,
   "metadata": {},
   "outputs": [],
   "source": [
    "# Problem 13\n",
    "\n",
    "s = input()\n",
    "d={\"DIGITS\":0, \"LETTERS\":0}\n",
    "for c in s:\n",
    "    if c.isdigit():\n",
    "        d[\"DIGITS\"]+=1\n",
    "    elif c.isalpha():\n",
    "        d[\"LETTERS\"]+=1\n",
    "    else:\n",
    "        pass\n",
    "print (\"LETTERS\", d[\"LETTERS\"])\n",
    "print (\"DIGITS\", d[\"DIGITS\"])"
   ]
  },
  {
   "cell_type": "code",
   "execution_count": null,
   "metadata": {},
   "outputs": [],
   "source": [
    "# Problem 14\n",
    "\n",
    "s = input()\n",
    "d={\"UPPER CASE\":0, \"LOWER CASE\":0}\n",
    "for c in s:\n",
    "    if c.isupper():\n",
    "        d[\"UPPER CASE\"]+=1\n",
    "    elif c.islower():\n",
    "        d[\"LOWER CASE\"]+=1\n",
    "    else:\n",
    "        pass\n",
    "print (\"UPPER CASE\", d[\"UPPER CASE\"])\n",
    "print (\"LOWER CASE\", d[\"LOWER CASE\"])"
   ]
  },
  {
   "cell_type": "code",
   "execution_count": null,
   "metadata": {},
   "outputs": [],
   "source": [
    "# Problem 15\n",
    "\n",
    "a = input()\n",
    "n1 = int( \"%s\" % a )\n",
    "n2 = int( \"%s%s\" % (a,a) )\n",
    "n3 = int( \"%s%s%s\" % (a,a,a) )\n",
    "n4 = int( \"%s%s%s%s\" % (a,a,a,a) )\n",
    "print (n1+n2+n3+n4)"
   ]
  },
  {
   "cell_type": "code",
   "execution_count": null,
   "metadata": {},
   "outputs": [],
   "source": [
    "# Problem 16\n",
    "\n",
    "values = input()\n",
    "numbers = [\n",
    "x for x in values.split(\",\") \n",
    "if int(x)%2!=0\n",
    "]\n",
    "print (\",\".join(numbers))"
   ]
  },
  {
   "cell_type": "code",
   "execution_count": null,
   "metadata": {},
   "outputs": [],
   "source": [
    "# Problem 17\n",
    "\n",
    "netAmount = 0\n",
    "while True:\n",
    "    s = input()\n",
    "\n",
    "    if not s:\n",
    "        break\n",
    "\n",
    "    values = s.split(\" \")\n",
    "    operation = values[0]\n",
    "    amount = int(values[1])\n",
    "\n",
    "    if operation==\"D\":\n",
    "        netAmount+=amount\n",
    "\n",
    "    elif operation==\"W\":\n",
    "        netAmount-=amount\n",
    "        \n",
    "    else:\n",
    "        pass\n",
    "print (netAmount)"
   ]
  },
  {
   "cell_type": "code",
   "execution_count": null,
   "metadata": {},
   "outputs": [],
   "source": [
    "# Problem 18\n",
    "\n",
    "import re\n",
    "value = []\n",
    "items =[x for x in input().split(',')]\n",
    "for p in items:\n",
    "    if len(p)<6 or len(p)>12:\n",
    "        continue\n",
    "\n",
    "    else:\n",
    "        pass\n",
    "\n",
    "    if not re.search(\"[a-z]\",p):\n",
    "        continue\n",
    "\n",
    "    elif not re.search(\"[0-9]\",p):\n",
    "        continue\n",
    "\n",
    "    elif not re.search(\"[A-Z]\",p):\n",
    "        continue\n",
    "\n",
    "    elif not re.search(\"[$#@]\",p):\n",
    "        continue\n",
    "\n",
    "    elif re.search(\"\\s\",p):\n",
    "        continue\n",
    "\n",
    "    else:\n",
    "        pass\n",
    "    value.append(p)\n",
    "\n",
    "print (\",\".join(value))"
   ]
  },
  {
   "cell_type": "code",
   "execution_count": null,
   "metadata": {},
   "outputs": [],
   "source": [
    "# Problem 19\n",
    "\n",
    "from operator import itemgetter, attrgetter\n",
    "\n",
    "l = []\n",
    "while True:\n",
    "    s = input()\n",
    "    if not s:\n",
    "        break\n",
    "    \n",
    "    l.append(tuple(s.split(\",\")))\n",
    "\n",
    "print (sorted(l, key=itemgetter(0,1,2)))\n"
   ]
  },
  {
   "cell_type": "code",
   "execution_count": null,
   "metadata": {},
   "outputs": [],
   "source": [
    "# Problem 20\n",
    "\n",
    "def putNumbers(n):\n",
    "    i = 0\n",
    "    while i<n:\n",
    "        j=i\n",
    "        i=i+1\n",
    "        if j%7==0:\n",
    "            yield j\n",
    "\n",
    "for i in putNumbers(100):\n",
    "    print (i)"
   ]
  },
  {
   "cell_type": "code",
   "execution_count": null,
   "metadata": {},
   "outputs": [],
   "source": [
    "# Problem 21\n",
    "\n",
    "import math\n",
    "pos = [0,0]\n",
    "while True:\n",
    "    s = input()\n",
    "    if not s:\n",
    "        break\n",
    "\n",
    "    movement = s.split(\" \")\n",
    "    direction = movement[0]\n",
    "    steps = int(movement[1])\n",
    "\n",
    "    if direction==\"UP\":\n",
    "        pos[0]+=steps\n",
    "\n",
    "    elif direction==\"DOWN\":\n",
    "        pos[0]-=steps\n",
    "        \n",
    "    elif direction==\"LEFT\":\n",
    "        pos[1]-=steps\n",
    "\n",
    "    elif direction==\"RIGHT\":\n",
    "        pos[1]+=steps\n",
    "\n",
    "    else:\n",
    "        pass\n",
    "\n",
    "print (int(round(math.sqrt(pos[1]**2+pos[0]**2))))"
   ]
  },
  {
   "cell_type": "code",
   "execution_count": null,
   "metadata": {},
   "outputs": [],
   "source": [
    "# Problem 22 \n",
    "\n",
    "freq = {}\n",
    "line = input()\n",
    "for word in line.split():\n",
    "    freq[word] = freq.get(word,0)+1\n",
    "\n",
    "words = freq.keys()\n",
    "sorted(words)\n",
    "\n",
    "for w in words:\n",
    "    print (\"%s:%d\" % (w,freq[w]))"
   ]
  },
  {
   "cell_type": "code",
   "execution_count": null,
   "metadata": {},
   "outputs": [],
   "source": [
    "# Problem 23\n",
    "\n",
    "def square(num):\n",
    "    return num ** 2\n",
    "\n",
    "print (square(2))\n",
    "print (square(3))\n",
    "\n"
   ]
  },
  {
   "cell_type": "code",
   "execution_count": null,
   "metadata": {},
   "outputs": [],
   "source": [
    "# Problem 24\n",
    "\n",
    "print (abs.__doc__)\n",
    "print (int.__doc__)\n",
    "print (input.__doc__)\n",
    "\n",
    "def square(num):\n",
    "    '''Return the square value of the input number.\n",
    "    \n",
    "    The input number must be integer.\n",
    "    '''\n",
    "    return num ** 2\n",
    "\n",
    "print (square(2))\n",
    "print (square.__doc__)"
   ]
  },
  {
   "cell_type": "code",
   "execution_count": null,
   "metadata": {},
   "outputs": [],
   "source": [
    "# Problem 25\n",
    "\n",
    "class Person:\n",
    "    # Define the class parameter \"name\"\n",
    "    name = \"Person\"\n",
    "    \n",
    "    def __init__(self, name = None):\n",
    "        # self.name is the instance parameter\n",
    "        self.name = name\n",
    "\n",
    "jeffrey = Person(\"Jeffrey\")\n",
    "print (\"%s name is %s\" % (Person.name, jeffrey.name))\n",
    "\n",
    "nico = Person()\n",
    "nico.name = \"Nico\"\n",
    "print (\"%s name is %s\" % (Person.name, nico.name))\n"
   ]
  },
  {
   "cell_type": "code",
   "execution_count": null,
   "metadata": {},
   "outputs": [],
   "source": [
    "# Problem 26\n",
    "\n",
    "def SumFunction(number1, number2):\n",
    "\treturn number1+number2\n",
    "\n",
    "print (SumFunction(1,2))\n"
   ]
  },
  {
   "cell_type": "code",
   "execution_count": null,
   "metadata": {},
   "outputs": [],
   "source": [
    "# Problem 27\n",
    "\n",
    "def printValue(n):\n",
    "\tprint (int(n))\n",
    "\n",
    "printValue(3)"
   ]
  },
  {
   "cell_type": "code",
   "execution_count": null,
   "metadata": {},
   "outputs": [],
   "source": [
    "# Problem 28\n",
    "\n",
    "def printValue(n):\n",
    "\tprint (str(n))\n",
    "\n",
    "printValue(3)"
   ]
  },
  {
   "cell_type": "code",
   "execution_count": null,
   "metadata": {},
   "outputs": [],
   "source": [
    "# Problem 29\n",
    "\n",
    "def printValue(s1,s2):\n",
    "\tprint (int(s1)+int(s2))\n",
    "\n",
    "printValue(\"3\",\"4\") "
   ]
  },
  {
   "cell_type": "code",
   "execution_count": null,
   "metadata": {},
   "outputs": [],
   "source": [
    "# Problem 30\n",
    "\n",
    "def printValue(s1,s2):\n",
    "\tprint (s1+s2)\n",
    "\n",
    "printValue(\"3\",\"4\")"
   ]
  },
  {
   "cell_type": "code",
   "execution_count": null,
   "metadata": {},
   "outputs": [],
   "source": [
    "# Problem 31 \n",
    "\n",
    "def printValue(s1,s2):\n",
    "\tlen1 = len(s1)\n",
    "\tlen2 = len(s2)\n",
    "\n",
    "\tif len1>len2:\n",
    "\t\tprint (s1)\n",
    "\n",
    "\telif len2>len1:\n",
    "\t\tprint (s2)\n",
    "\n",
    "\telse:\n",
    "\t\tprint (s1)\n",
    "\t\tprint (s2)\n",
    "\t\t\n",
    "printValue(\"one\",\"three\")"
   ]
  },
  {
   "cell_type": "code",
   "execution_count": null,
   "metadata": {},
   "outputs": [],
   "source": [
    "# Problem 32\n",
    "\n",
    "def checkValue(n):\n",
    "\tif n%2 == 0:\n",
    "\t\tprint (\"It is an even number\")\n",
    "\telse:\n",
    "\t\tprint (\"It is an odd number\")\n",
    "\t\t\n",
    "checkValue(7)\n",
    "\n"
   ]
  },
  {
   "cell_type": "code",
   "execution_count": null,
   "metadata": {},
   "outputs": [],
   "source": [
    "# Problem 33\n",
    "\n",
    "def printDict():\n",
    "\td=dict()\n",
    "\td[1]=1\n",
    "\td[2]=2**2\n",
    "\td[3]=3**2\n",
    "\tprint (d)\n",
    "\t\t\n",
    "\n",
    "printDict()"
   ]
  },
  {
   "cell_type": "code",
   "execution_count": null,
   "metadata": {},
   "outputs": [],
   "source": [
    "# Problem 34\n",
    "\n",
    "def printDict():\n",
    "\td = dict()\n",
    "\tfor i in range(1,21):\n",
    "\t\td[i]=i**2\n",
    "\tprint (d)\n",
    "\t\t\n",
    "printDict()\n"
   ]
  },
  {
   "cell_type": "code",
   "execution_count": null,
   "metadata": {},
   "outputs": [],
   "source": [
    "# Problem 35\n",
    "\n",
    "def printDict():\n",
    "\td = dict()\n",
    "\tfor i in range(1,21):\n",
    "\t\td[i]=i**2\n",
    "\tfor (k,v) in d.items():\t\n",
    "\t\tprint (v)\n",
    "\t\t\n",
    "printDict()"
   ]
  },
  {
   "cell_type": "code",
   "execution_count": null,
   "metadata": {},
   "outputs": [],
   "source": [
    "# Problem 36\n",
    "\n",
    "def printDict():\n",
    "\td = dict()\n",
    "\tfor i in range(1,21):\n",
    "\t\td[i]=i**2\n",
    "\n",
    "\tfor k in d.keys():\t\n",
    "\t\tprint (k)\n",
    "\t\t\n",
    "printDict()"
   ]
  },
  {
   "cell_type": "code",
   "execution_count": null,
   "metadata": {},
   "outputs": [],
   "source": [
    "# Problem 37\n",
    "\n",
    "def printList():\n",
    "\tl=list()\n",
    "\tfor i in range(1,21):\n",
    "\t\tl.append(i**2)\n",
    "\tprint (l)\n",
    "\t\t\n",
    "printList()"
   ]
  },
  {
   "cell_type": "code",
   "execution_count": null,
   "metadata": {},
   "outputs": [],
   "source": [
    "# Problem 38 \n",
    "\n",
    "def printList():\n",
    "\tl=list()\n",
    "\tfor i in range(1,21):\n",
    "\t\tl.append(i**2)\n",
    "\tprint (l[:5])\n",
    "\t\t\n",
    "\n",
    "printList()"
   ]
  },
  {
   "cell_type": "code",
   "execution_count": null,
   "metadata": {},
   "outputs": [],
   "source": [
    "# Problem 40\n",
    "\n",
    "def printList():\n",
    "\tl=list()\n",
    "\tfor i in range(1,21):\n",
    "\t\tl.append(i**2)\n",
    "\tprint (l[-5:])\n",
    "\t\t\n",
    "printList()\n"
   ]
  },
  {
   "cell_type": "code",
   "execution_count": null,
   "metadata": {},
   "outputs": [],
   "source": [
    "# Problem 40\n",
    "\n",
    "def printList():\n",
    "\tl=list()\n",
    "\tfor i in range(1,21):\n",
    "\t\tl.append(i**2)\n",
    "\tprint (l[5:])\n",
    "\t\t\n",
    "\n",
    "printList()"
   ]
  },
  {
   "cell_type": "code",
   "execution_count": null,
   "metadata": {},
   "outputs": [],
   "source": [
    "# Problem 41\n",
    "\n",
    "def printTuple():\n",
    "\tl=list()\n",
    "\tfor i in range(1,21):\n",
    "\t\tl.append(i**2)\n",
    "\tprint (tuple(l))\n",
    "\t\t\n",
    "printTuple()"
   ]
  },
  {
   "cell_type": "code",
   "execution_count": null,
   "metadata": {},
   "outputs": [],
   "source": [
    "# Problem 42\n",
    "\n",
    "tp = (1,2,3,4,5,6,7,8,9,10)\n",
    "tp1 = tp[:5]\n",
    "tp2 = tp[5:]\n",
    "print (tp1)\n",
    "print (tp2)"
   ]
  },
  {
   "cell_type": "code",
   "execution_count": null,
   "metadata": {},
   "outputs": [],
   "source": [
    "# Problem 43\n",
    "\n",
    "tp=(1,2,3,4,5,6,7,8,9,10)\n",
    "li=list()\n",
    "for i in range (len(tp)):\n",
    "\tif tp[i]%2==0:\n",
    "\t\tli.append(tp[i])\n",
    "\n",
    "tp2=tuple(li)\n",
    "print (tp2)\n",
    "\n",
    "\n"
   ]
  },
  {
   "cell_type": "code",
   "execution_count": null,
   "metadata": {},
   "outputs": [],
   "source": [
    "# Problem 44\n",
    "\n",
    "s= input()\n",
    "\n",
    "if s==\"yes\" or s==\"YES\" or s==\"Yes\":\n",
    "    print \"Yes\"\n",
    "\n",
    "else:\n",
    "    print \"No\""
   ]
  },
  {
   "cell_type": "code",
   "execution_count": null,
   "metadata": {},
   "outputs": [],
   "source": [
    "# Problem 45\n",
    "\n",
    "l = [1,2,3,4,5,6,7,8,9,10]\n",
    "evenNumbers = filter(lambda x: x%2==0, l)\n",
    "print (list(evenNumbers))\n"
   ]
  },
  {
   "cell_type": "code",
   "execution_count": null,
   "metadata": {},
   "outputs": [],
   "source": [
    "# Problem 46\n",
    "\n",
    "l = [1,2,3,4,5,6,7,8,9,10]\n",
    "squaredNumbers = map(lambda x: x**2, l)\n",
    "print (list(squaredNumbers))"
   ]
  },
  {
   "cell_type": "code",
   "execution_count": null,
   "metadata": {},
   "outputs": [],
   "source": [
    "#Problem 47\n",
    "\n",
    "l = [1,2,3,4,5,6,7,8,9,10]\n",
    "evenSqrNumbers = map(lambda x: x**2, filter(lambda x: x%2==0, l))\n",
    "print (list(evenSqrNumbers))"
   ]
  },
  {
   "cell_type": "code",
   "execution_count": null,
   "metadata": {},
   "outputs": [],
   "source": [
    "# Problem 48 \n",
    "\n",
    "evenNumbers = filter(lambda x: x%2==0, range(1,21))\n",
    "print (list(evenNumbers))"
   ]
  },
  {
   "cell_type": "code",
   "execution_count": null,
   "metadata": {},
   "outputs": [],
   "source": [
    "# Problem 49\n",
    "\n",
    "squaredNumbers = map(lambda x: x**2, range(1,21))\n",
    "print (list(squaredNumbers))"
   ]
  },
  {
   "cell_type": "code",
   "execution_count": null,
   "metadata": {},
   "outputs": [],
   "source": [
    "# Problem 50\n",
    "\n",
    "class American(object):\n",
    "    @staticmethod\n",
    "    def printNationality():\n",
    "        print (\"America\")\n",
    "\n",
    "anAmerican = American()\n",
    "anAmerican.printNationality()\n",
    "American.printNationality()"
   ]
  },
  {
   "cell_type": "code",
   "execution_count": null,
   "metadata": {},
   "outputs": [],
   "source": [
    "# Problem 51\n",
    "\n",
    "class American(object):\n",
    "    def __repr__(self):\n",
    "         return \"American()\"\n",
    "    \n",
    "   \n",
    "\n",
    "class NewYorker(American):\n",
    "    def __repr__(self):\n",
    "         return \"NewYorker()\"\n",
    "    \n",
    "\n",
    "anAmerican = American()\n",
    "aNewYorker = NewYorker()\n",
    "\n",
    "print (anAmerican)\n",
    "print (aNewYorker)\n"
   ]
  },
  {
   "cell_type": "code",
   "execution_count": null,
   "metadata": {},
   "outputs": [],
   "source": [
    "# Problem 52\n",
    "\n",
    "class Circle(object):\n",
    "    def __init__(self, r):\n",
    "        self.radius = r\n",
    "\n",
    "    def area(self):\n",
    "        return self.radius**2*3.14\n",
    "\n",
    "aCircle = Circle(2)\n",
    "print (aCircle.area())"
   ]
  },
  {
   "cell_type": "code",
   "execution_count": null,
   "metadata": {},
   "outputs": [],
   "source": [
    "# Problem 53\n",
    "\n",
    "class Rectangle(object):\n",
    "    def __init__(self, l, w):\n",
    "        self.length = l\n",
    "        self.width  = w\n",
    "\n",
    "    def area(self):\n",
    "        return self.length*self.width\n",
    "\n",
    "aRectangle = Rectangle(2,10)\n",
    "print (aRectangle.area())"
   ]
  },
  {
   "cell_type": "code",
   "execution_count": null,
   "metadata": {},
   "outputs": [],
   "source": [
    "# Problem 54\n",
    "\n",
    "class Shape(object):\n",
    "    def __init__(self):\n",
    "        pass\n",
    "\n",
    "    def area(self):\n",
    "        return 0\n",
    "\n",
    "class Square(Shape):\n",
    "    def __init__(self, l):\n",
    "        Shape.__init__(self)\n",
    "        self.length = l\n",
    "\n",
    "    def area(self):\n",
    "        return self.length*self.length\n",
    "\n",
    "aSquare= Square(3)\n",
    "print (aSquare.area())"
   ]
  },
  {
   "cell_type": "code",
   "execution_count": null,
   "metadata": {},
   "outputs": [],
   "source": [
    "# Problem 55\n",
    "\n",
    "raise RuntimeError('something wrong')"
   ]
  },
  {
   "cell_type": "code",
   "execution_count": null,
   "metadata": {},
   "outputs": [],
   "source": [
    "# Problem  56\n",
    "\n",
    "def throws():\n",
    "    return 5/0\n",
    "\n",
    "try:\n",
    "    throws()\n",
    "except ZeroDivisionError:\n",
    "    print (\"division by zero!\")\n",
    "except (Exception,err):\n",
    "    print ('Caught an exception')\n",
    "finally:\n",
    "    print ('In finally block for cleanup')"
   ]
  },
  {
   "cell_type": "code",
   "execution_count": null,
   "metadata": {},
   "outputs": [],
   "source": [
    "# Problem 57\n",
    "\n",
    "class MyError(Exception):\n",
    "    \"\"\"My own exception class\n",
    "\n",
    "    Attributes:\n",
    "        msg  -- explanation of the error\n",
    "    \"\"\"\n",
    "\n",
    "    def __init__(self, msg):\n",
    "        self.msg = msg\n",
    "\n",
    "error = MyError(\"something wrong\")\n",
    "print (error)"
   ]
  },
  {
   "cell_type": "code",
   "execution_count": null,
   "metadata": {},
   "outputs": [],
   "source": [
    "# Problem 58\n",
    "\n",
    "import re\n",
    "emailAddress = input()\n",
    "pat2 = \"(\\w+)@((\\w+\\.)+(com))\"\n",
    "r2 = re.match(pat2,emailAddress)\n",
    "print (r2.group(1))"
   ]
  },
  {
   "cell_type": "code",
   "execution_count": null,
   "metadata": {},
   "outputs": [],
   "source": [
    "# Problem 59\n",
    "\n",
    "import re\n",
    "emailAddress = input()\n",
    "pat2 = \"(\\w+)@(\\w+)\\.(com)\"\n",
    "r2 = re.match(pat2,emailAddress)\n",
    "print (r2.group(2))\n"
   ]
  },
  {
   "cell_type": "code",
   "execution_count": null,
   "metadata": {},
   "outputs": [],
   "source": [
    "# Problem 60\n",
    "\n",
    "import re\n",
    "s = input()\n",
    "print (re.findall(\"\\d+\",s))\n"
   ]
  },
  {
   "cell_type": "code",
   "execution_count": null,
   "metadata": {},
   "outputs": [],
   "source": [
    "# Problem 61\n",
    "\n",
    "unicodeString = u'hello world!'\n",
    "print (unicodeString)"
   ]
  },
  {
   "cell_type": "code",
   "execution_count": null,
   "metadata": {},
   "outputs": [],
   "source": [
    "# Problem 62\n",
    "\n",
    "\n",
    "s = input()\n",
    "u = str(s)\n",
    "print (u)"
   ]
  },
  {
   "cell_type": "code",
   "execution_count": null,
   "metadata": {},
   "outputs": [],
   "source": [
    "# Problem 63\n",
    "\n",
    "# -*- coding: utf-8 -*-"
   ]
  },
  {
   "cell_type": "code",
   "execution_count": null,
   "metadata": {},
   "outputs": [],
   "source": [
    "# Problem 64\n",
    "\n",
    "n=int(input())\n",
    "sum = 0.0\n",
    "for i in range(1,n+1):\n",
    "    sum += float(float(i)/(i+1))\n",
    "print (sum)"
   ]
  },
  {
   "cell_type": "code",
   "execution_count": null,
   "metadata": {},
   "outputs": [],
   "source": [
    "# Problem 65\n",
    "\n",
    "def f(n):\n",
    "    if n==0:\n",
    "        return 0\n",
    "    else:\n",
    "        return f(n-1)+100\n",
    "\n",
    "n=int(input())\n",
    "print (f(n))"
   ]
  },
  {
   "cell_type": "code",
   "execution_count": null,
   "metadata": {},
   "outputs": [],
   "source": [
    "# Problem 66\n",
    "\n",
    "def f(n):\n",
    "    if n == 0: return 0\n",
    "    elif n == 1: return 1\n",
    "    else: return f(n-1)+f(n-2)\n",
    "\n",
    "n=int(input())\n",
    "print (f(n))"
   ]
  },
  {
   "cell_type": "code",
   "execution_count": null,
   "metadata": {},
   "outputs": [],
   "source": [
    "# Problem 67\n",
    "\n",
    "def f(n):\n",
    "    if n == 0: \n",
    "        return 0\n",
    "    elif n == 1: \n",
    "        return 1\n",
    "    else: \n",
    "        return f(n-1)+f(n-2)\n",
    "\n",
    "n=int(input())\n",
    "values = [str(f(x)) for x in range(0, n+1)]\n",
    "print (\",\".join(values))"
   ]
  },
  {
   "cell_type": "code",
   "execution_count": null,
   "metadata": {},
   "outputs": [],
   "source": [
    "# Problem 68\n",
    "\n",
    "def EvenGenerator(n):\n",
    "    i=0\n",
    "    while i<=n:\n",
    "        if i%2==0:\n",
    "            yield i\n",
    "        i+=1\n",
    "\n",
    "\n",
    "n=int(input())\n",
    "values = []\n",
    "for i in EvenGenerator(n):\n",
    "    values.append(str(i))\n",
    "\n",
    "print (\",\".join(values))"
   ]
  },
  {
   "cell_type": "code",
   "execution_count": null,
   "metadata": {},
   "outputs": [],
   "source": [
    "# Problem 69\n",
    "\n",
    "def NumGenerator(n):\n",
    "    for i in range(n+1):\n",
    "        if i%5==0 and i%7==0:\n",
    "            yield i\n",
    "\n",
    "n=int(input())\n",
    "values = []\n",
    "for i in NumGenerator(n):\n",
    "    values.append(str(i))\n",
    "\n",
    "print (\",\".join(values))"
   ]
  },
  {
   "cell_type": "code",
   "execution_count": null,
   "metadata": {},
   "outputs": [],
   "source": [
    "# Problem 70\n",
    "\n",
    "l = [2,4,6,9]\n",
    "for i in l:\n",
    "    assert i%2==0,\"All numbers are not even\" "
   ]
  },
  {
   "cell_type": "code",
   "execution_count": null,
   "metadata": {},
   "outputs": [],
   "source": [
    "# Problem 71\n",
    "\n",
    "expression = input()\n",
    "print (eval(expression))"
   ]
  },
  {
   "cell_type": "code",
   "execution_count": null,
   "metadata": {},
   "outputs": [],
   "source": [
    "# Problem 72\n",
    "\n",
    "import math\n",
    "def bin_search(l, element):\n",
    "    bottom = 0\n",
    "    top = len(li)-1\n",
    "    index = -1\n",
    "    while top>=bottom and index==-1:\n",
    "        mid = int(math.floor((top+bottom)/2.0))\n",
    "        if l[mid]==element:\n",
    "            index = mid\n",
    "        elif l[mid]>element:\n",
    "            top = mid-1\n",
    "        else:\n",
    "            bottom = mid+1\n",
    "\n",
    "    return index\n",
    "\n",
    "l=[2,5,7,9,11,17,222]\n",
    "print (bin_search(l,11))\n",
    "print (bin_search(l,12))\n"
   ]
  },
  {
   "cell_type": "code",
   "execution_count": null,
   "metadata": {},
   "outputs": [],
   "source": [
    "# Problem 73\n",
    "\n",
    "import math\n",
    "def bin_search(l, element):\n",
    "    bottom = 0\n",
    "    top = len(l)-1\n",
    "    index = -1\n",
    "    while top>=bottom and index==-1:\n",
    "\n",
    "        mid = int(math.floor((top+bottom)/2.0))\n",
    "        if l[mid]==element:\n",
    "            index = mid\n",
    "\n",
    "        elif l[mid]>element:\n",
    "            top = mid-1\n",
    "\n",
    "        else:\n",
    "            bottom = mid+1\n",
    "\n",
    "    return index\n",
    "\n",
    "l =[2,5,7,9,11,17,222]\n",
    "print (bin_search(l,11))\n",
    "print (bin_search(l,12))"
   ]
  },
  {
   "cell_type": "code",
   "execution_count": null,
   "metadata": {},
   "outputs": [],
   "source": [
    "# Problem 74\n",
    "\n",
    "import random\n",
    "print (random.random()*100)"
   ]
  },
  {
   "cell_type": "code",
   "execution_count": null,
   "metadata": {},
   "outputs": [],
   "source": [
    "# Problem 75\n",
    "\n",
    "import random\n",
    "print (random.random()*100-5)"
   ]
  },
  {
   "cell_type": "code",
   "execution_count": null,
   "metadata": {},
   "outputs": [],
   "source": [
    "# Problem 76\n",
    "\n",
    "import random\n",
    "print (random.choice([i for i in range(11) if i%2==0]))"
   ]
  },
  {
   "cell_type": "code",
   "execution_count": null,
   "metadata": {},
   "outputs": [],
   "source": [
    "# Problem 77\n",
    "\n",
    "import random\n",
    "print (random.choice([i for i in range(201) if i%5==0 and i%7==0]))"
   ]
  },
  {
   "cell_type": "code",
   "execution_count": null,
   "metadata": {},
   "outputs": [],
   "source": [
    "# Problem 78\n",
    "\n",
    "import random\n",
    "print (random.sample(range(100), 5))\n"
   ]
  },
  {
   "cell_type": "code",
   "execution_count": null,
   "metadata": {},
   "outputs": [],
   "source": [
    "# Problem 79\n",
    "\n",
    "import random\n",
    "print (random.sample([i for i in range(100,201) if i%2==0], 5))"
   ]
  },
  {
   "cell_type": "code",
   "execution_count": null,
   "metadata": {},
   "outputs": [],
   "source": [
    "# Problem 80\n",
    "\n",
    "import random\n",
    "print (random.sample([i for i in range(1,1001) if i%5==0 and i%7==0], 5))"
   ]
  },
  {
   "cell_type": "code",
   "execution_count": null,
   "metadata": {},
   "outputs": [],
   "source": [
    "#Problem 81\n",
    "\n",
    "import random\n",
    "print (random.randrange(7,16))"
   ]
  },
  {
   "cell_type": "code",
   "execution_count": null,
   "metadata": {},
   "outputs": [],
   "source": [
    "# Problem 82\n",
    "\n",
    "import zlib\n",
    "s = 'hello world!hello world!hello world!hello world!.'.encode()\n",
    "t = zlib.compress(s)\n",
    "print (t)\n",
    "print (zlib.decompress(t))"
   ]
  },
  {
   "cell_type": "code",
   "execution_count": null,
   "metadata": {},
   "outputs": [],
   "source": [
    "# Problem 83\n",
    "\n",
    "from timeit import Timer\n",
    "t = Timer(\"for i in range(100):1+1\")\n",
    "print (t.timeit())\n",
    "\n"
   ]
  },
  {
   "cell_type": "code",
   "execution_count": null,
   "metadata": {},
   "outputs": [],
   "source": [
    "# Problem 84\n",
    "\n",
    "from random import shuffle\n",
    "l = [3,6,7,8]\n",
    "shuffle(l)\n",
    "print (l)\n"
   ]
  },
  {
   "cell_type": "code",
   "execution_count": null,
   "metadata": {},
   "outputs": [],
   "source": [
    "# Problem 85\n",
    "\n",
    "subjects=[\"I\", \"You\"]\n",
    "verbs=[\"Play\", \"Love\"]\n",
    "objects=[\"Hockey\",\"Football\"]\n",
    "for i in range(len(subjects)):\n",
    "    for j in range(len(verbs)):\n",
    "        for k in range(len(objects)):\n",
    "            sentence = \"%s %s %s.\" % (subjects[i], verbs[j], objects[k])\n",
    "            print (sentence)\n"
   ]
  },
  {
   "cell_type": "code",
   "execution_count": null,
   "metadata": {},
   "outputs": [],
   "source": [
    "# Problem 86\n",
    "\n",
    "l = [5,6,77,45,22,12,24]\n",
    "l = [x for x in l \n",
    "        if x%2!=0 ]\n",
    "print (l)"
   ]
  },
  {
   "cell_type": "code",
   "execution_count": null,
   "metadata": {},
   "outputs": [],
   "source": [
    "# Problem 87\n",
    "\n",
    "l = [12,24,35,70,88,120,155]\n",
    "l = [x for x in l \n",
    "        if x%5!=0 and x%7!=0]\n",
    "print (l)"
   ]
  },
  {
   "cell_type": "code",
   "execution_count": null,
   "metadata": {},
   "outputs": [],
   "source": [
    "# Problem 88\n",
    "\n",
    "l = [12,24,35,70,88,120,155]\n",
    "l = [x for (i,x) in enumerate(l) \n",
    "        if i%2!=0]\n",
    "print (l)\n"
   ]
  },
  {
   "cell_type": "code",
   "execution_count": null,
   "metadata": {},
   "outputs": [],
   "source": [
    "# Problem 89\n",
    "\n",
    "array = [[ [0 for col in range(8)] for col in range(5)] for row in range(3)]\n",
    "print (array)"
   ]
  },
  {
   "cell_type": "code",
   "execution_count": null,
   "metadata": {},
   "outputs": [],
   "source": [
    "# Problem 90\n",
    "\n",
    "l = [12,24,35,70,88,120,155]\n",
    "l = [x for (i,x) in enumerate(l) \n",
    "        if i not in (0,4,5)]\n",
    "print (l)"
   ]
  },
  {
   "cell_type": "code",
   "execution_count": null,
   "metadata": {},
   "outputs": [],
   "source": [
    "# Problem 91\n",
    "\n",
    "l = [12,24,35,24,88,120,155]\n",
    "l = [x for x in l \n",
    "            if x!=24]\n",
    "print (l)"
   ]
  },
  {
   "cell_type": "code",
   "execution_count": null,
   "metadata": {},
   "outputs": [],
   "source": [
    "# Problem 92\n",
    "\n",
    "set1=set([1,3,6,78,35,55])\n",
    "set2=set([12,24,35,24,88,120,155])\n",
    "set1 &= set2\n",
    "l=list(set1)\n",
    "print (l)"
   ]
  },
  {
   "cell_type": "code",
   "execution_count": null,
   "metadata": {},
   "outputs": [],
   "source": [
    "#Problem 93\n",
    "\n",
    "def removeDuplicate( l ):\n",
    "    newl=[]\n",
    "    seen = set()\n",
    "    for item in l:\n",
    "        if item not in seen:\n",
    "            seen.add( item )\n",
    "            newl.append(item)\n",
    "\n",
    "    return newl\n",
    "\n",
    "l=[12,24,35,24,88,120,155,88,120,155]\n",
    "print (removeDuplicate(l))"
   ]
  },
  {
   "cell_type": "code",
   "execution_count": null,
   "metadata": {},
   "outputs": [],
   "source": [
    "# Problem 94\n",
    "\n",
    "class Person(object):\n",
    "    def getGender( self ):\n",
    "        return \"Unknown\"\n",
    "\n",
    "class Male( Person ):\n",
    "    def getGender( self ):\n",
    "        return \"Male\"\n",
    "\n",
    "class Female( Person ):\n",
    "    def getGender( self ):\n",
    "        return \"Female\"\n",
    "\n",
    "aMale = Male()\n",
    "aFemale= Female()\n",
    "print (aMale.getGender())\n",
    "print (aFemale.getGender())"
   ]
  },
  {
   "cell_type": "code",
   "execution_count": null,
   "metadata": {},
   "outputs": [],
   "source": [
    "# Problem 95\n",
    "\n",
    "dic = {}\n",
    "s=input()\n",
    "for s in s:\n",
    "    dic[s] = dic.get(s,0)+1\n",
    "    \n",
    "print ('\\n'.join(['%s,%s' % (k, v) for k, v in dic.items()]))"
   ]
  },
  {
   "cell_type": "code",
   "execution_count": null,
   "metadata": {},
   "outputs": [],
   "source": [
    "# Problem 96\n",
    "\n",
    "s=input()\n",
    "s = s[::-1]\n",
    "\n",
    "print (s)"
   ]
  },
  {
   "cell_type": "code",
   "execution_count": null,
   "metadata": {},
   "outputs": [],
   "source": [
    "# Problem 97\n",
    "\n",
    "s= input()\n",
    "s = s[::2]\n",
    "print (s)"
   ]
  },
  {
   "cell_type": "code",
   "execution_count": null,
   "metadata": {},
   "outputs": [],
   "source": [
    "# Problem 98\n",
    "\n",
    "import itertools\n",
    "print (list(itertools.permutations([1,2,3])))\n"
   ]
  },
  {
   "cell_type": "code",
   "execution_count": 52,
   "metadata": {},
   "outputs": [
    {
     "name": "stdout",
     "output_type": "stream",
     "text": [
      "(23, 12)\n"
     ]
    }
   ],
   "source": [
    "# Problem 99\n",
    "\n",
    "def solve(numheads,numlegs):\n",
    "    ns='No solutions!'\n",
    "    for i in range(numheads+1):\n",
    "        j=numheads-i\n",
    "        if 2*i+4*j==numlegs:\n",
    "            return i,j\n",
    "    return ns,ns\n",
    "\n",
    "numheads=35\n",
    "numlegs=94\n",
    "solutions=solve(numheads,numlegs)\n",
    "print (solutions)\n"
   ]
  },
  {
   "cell_type": "code",
   "execution_count": null,
   "metadata": {},
   "outputs": [],
   "source": [
    "# Problem 100\n",
    " #There was a copy of a question so there is only 99 of them"
   ]
  }
 ],
 "metadata": {
  "interpreter": {
   "hash": "b6c5e841ba196de320db6daab4fcc45edb87a5250e58f1e81a478c24e0cc895f"
  },
  "kernelspec": {
   "display_name": "Python 3.8.8 64-bit ('base': conda)",
   "language": "python",
   "name": "python3"
  },
  "language_info": {
   "codemirror_mode": {
    "name": "ipython",
    "version": 3
   },
   "file_extension": ".py",
   "mimetype": "text/x-python",
   "name": "python",
   "nbconvert_exporter": "python",
   "pygments_lexer": "ipython3",
   "version": "3.8.8"
  },
  "orig_nbformat": 4
 },
 "nbformat": 4,
 "nbformat_minor": 2
}
